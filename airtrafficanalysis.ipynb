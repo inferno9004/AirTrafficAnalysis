{
 "cells": [
  {
   "cell_type": "markdown",
   "metadata": {},
   "source": [
    "# Problem Set 1, due January 13th at 12:00pm \n",
    "(in other words, it is due at noon, or one minute after 11:59am).\n",
    "\n",
    "###Before You Start\n",
    "Make sure to at least take a basic tutorial in the IPython notebook, otherwise you'll be totally lost.  For this problem set, you should download INFX574-PS1.ipynb and the flights.zip dataset from Canvas. Create a local copy of the notebook and rename it LASTNAME_FIRSTNAME-PS1.ipynb. Then edit your renamed file directly in your browser by typing:\n",
    "```\n",
    "ipython notebook <name_of_downloaded_file>\n",
    "```\n",
    "\n",
    "You should also make sure the following libraries load correctly (click on the box below and hit Ctrl-Enter)"
   ]
  },
  {
   "cell_type": "markdown",
   "metadata": {},
   "source": [
    "##About the Problem Set: \n",
    "This is the same problem set used by Emma Spiro in INFX573. The only difference is that instead of doing the problem set in R, you will use Python and the IPython notebook.\n",
    "\n",
    "##Instructions: \n",
    "In this problem set you will perform a basic exploratory analysis on an example dataset, bringing to bear all of your new skills in data manipulation and visualization. You will be required to submit well commented python code, documenting all code used in this problem set, along with a write up answering all questions below. Use figures as appropriate to support your answers, and when required by the problem. \n",
    "This data set uses the NYCFlights13 dataset. You can download the dataset from canvas."
   ]
  },
  {
   "cell_type": "code",
   "execution_count": 1,
   "metadata": {
    "collapsed": false
   },
   "outputs": [
    {
     "name": "stderr",
     "output_type": "stream",
     "text": [
      "C:\\Users\\Aamir-PC\\Anaconda2\\lib\\site-packages\\matplotlib\\__init__.py:872: UserWarning: axes.color_cycle is deprecated and replaced with axes.prop_cycle; please use the latter.\n",
      "  warnings.warn(self.msg_depr % (key, alt_key))\n"
     ]
    }
   ],
   "source": [
    "import pandas as pd\n",
    "import numpy as np\n",
    "import matplotlib.pyplot as plt\n",
    "import seaborn as sns\n",
    "%matplotlib inline"
   ]
  },
  {
   "cell_type": "code",
   "execution_count": 2,
   "metadata": {
    "collapsed": false
   },
   "outputs": [
    {
     "data": {
      "text/html": [
       "<div>\n",
       "<table border=\"1\" class=\"dataframe\">\n",
       "  <thead>\n",
       "    <tr style=\"text-align: right;\">\n",
       "      <th></th>\n",
       "      <th>Unnamed: 0</th>\n",
       "      <th>year</th>\n",
       "      <th>month</th>\n",
       "      <th>day</th>\n",
       "      <th>dep_time</th>\n",
       "      <th>dep_delay</th>\n",
       "      <th>arr_time</th>\n",
       "      <th>arr_delay</th>\n",
       "      <th>carrier</th>\n",
       "      <th>tailnum</th>\n",
       "      <th>flight</th>\n",
       "      <th>origin</th>\n",
       "      <th>dest</th>\n",
       "      <th>air_time</th>\n",
       "      <th>distance</th>\n",
       "      <th>hour</th>\n",
       "      <th>minute</th>\n",
       "    </tr>\n",
       "  </thead>\n",
       "  <tbody>\n",
       "    <tr>\n",
       "      <th>0</th>\n",
       "      <td>1</td>\n",
       "      <td>2013</td>\n",
       "      <td>1</td>\n",
       "      <td>1</td>\n",
       "      <td>517</td>\n",
       "      <td>2</td>\n",
       "      <td>830</td>\n",
       "      <td>11</td>\n",
       "      <td>UA</td>\n",
       "      <td>N14228</td>\n",
       "      <td>1545</td>\n",
       "      <td>EWR</td>\n",
       "      <td>IAH</td>\n",
       "      <td>227</td>\n",
       "      <td>1400</td>\n",
       "      <td>5</td>\n",
       "      <td>17</td>\n",
       "    </tr>\n",
       "    <tr>\n",
       "      <th>1</th>\n",
       "      <td>2</td>\n",
       "      <td>2013</td>\n",
       "      <td>1</td>\n",
       "      <td>1</td>\n",
       "      <td>533</td>\n",
       "      <td>4</td>\n",
       "      <td>850</td>\n",
       "      <td>20</td>\n",
       "      <td>UA</td>\n",
       "      <td>N24211</td>\n",
       "      <td>1714</td>\n",
       "      <td>LGA</td>\n",
       "      <td>IAH</td>\n",
       "      <td>227</td>\n",
       "      <td>1416</td>\n",
       "      <td>5</td>\n",
       "      <td>33</td>\n",
       "    </tr>\n",
       "    <tr>\n",
       "      <th>2</th>\n",
       "      <td>3</td>\n",
       "      <td>2013</td>\n",
       "      <td>1</td>\n",
       "      <td>1</td>\n",
       "      <td>542</td>\n",
       "      <td>2</td>\n",
       "      <td>923</td>\n",
       "      <td>33</td>\n",
       "      <td>AA</td>\n",
       "      <td>N619AA</td>\n",
       "      <td>1141</td>\n",
       "      <td>JFK</td>\n",
       "      <td>MIA</td>\n",
       "      <td>160</td>\n",
       "      <td>1089</td>\n",
       "      <td>5</td>\n",
       "      <td>42</td>\n",
       "    </tr>\n",
       "    <tr>\n",
       "      <th>3</th>\n",
       "      <td>4</td>\n",
       "      <td>2013</td>\n",
       "      <td>1</td>\n",
       "      <td>1</td>\n",
       "      <td>544</td>\n",
       "      <td>-1</td>\n",
       "      <td>1004</td>\n",
       "      <td>-18</td>\n",
       "      <td>B6</td>\n",
       "      <td>N804JB</td>\n",
       "      <td>725</td>\n",
       "      <td>JFK</td>\n",
       "      <td>BQN</td>\n",
       "      <td>183</td>\n",
       "      <td>1576</td>\n",
       "      <td>5</td>\n",
       "      <td>44</td>\n",
       "    </tr>\n",
       "    <tr>\n",
       "      <th>4</th>\n",
       "      <td>5</td>\n",
       "      <td>2013</td>\n",
       "      <td>1</td>\n",
       "      <td>1</td>\n",
       "      <td>554</td>\n",
       "      <td>-6</td>\n",
       "      <td>812</td>\n",
       "      <td>-25</td>\n",
       "      <td>DL</td>\n",
       "      <td>N668DN</td>\n",
       "      <td>461</td>\n",
       "      <td>LGA</td>\n",
       "      <td>ATL</td>\n",
       "      <td>116</td>\n",
       "      <td>762</td>\n",
       "      <td>5</td>\n",
       "      <td>54</td>\n",
       "    </tr>\n",
       "  </tbody>\n",
       "</table>\n",
       "</div>"
      ],
      "text/plain": [
       "   Unnamed: 0  year  month  day  dep_time  dep_delay  arr_time  arr_delay  \\\n",
       "0           1  2013      1    1       517          2       830         11   \n",
       "1           2  2013      1    1       533          4       850         20   \n",
       "2           3  2013      1    1       542          2       923         33   \n",
       "3           4  2013      1    1       544         -1      1004        -18   \n",
       "4           5  2013      1    1       554         -6       812        -25   \n",
       "\n",
       "  carrier tailnum  flight origin dest  air_time  distance  hour  minute  \n",
       "0      UA  N14228    1545    EWR  IAH       227      1400     5      17  \n",
       "1      UA  N24211    1714    LGA  IAH       227      1416     5      33  \n",
       "2      AA  N619AA    1141    JFK  MIA       160      1089     5      42  \n",
       "3      B6  N804JB     725    JFK  BQN       183      1576     5      44  \n",
       "4      DL  N668DN     461    LGA  ATL       116       762     5      54  "
      ]
     },
     "execution_count": 2,
     "metadata": {},
     "output_type": "execute_result"
    }
   ],
   "source": [
    "#importing data\n",
    "flights_df= pd.read_csv('flights.csv')\n",
    "\n",
    "#viewing the data\n",
    "flights_df.head()"
   ]
  },
  {
   "cell_type": "markdown",
   "metadata": {},
   "source": [
    "* Since Pandas already provides an index, we can remove the redundant column \"Unnamed:0\"."
   ]
  },
  {
   "cell_type": "code",
   "execution_count": 3,
   "metadata": {
    "collapsed": true
   },
   "outputs": [],
   "source": [
    "#deleting the redundant column Unnamed:0\n",
    "\n",
    "del flights_df[\"Unnamed: 0\"]"
   ]
  },
  {
   "cell_type": "code",
   "execution_count": 4,
   "metadata": {
    "collapsed": false
   },
   "outputs": [
    {
     "data": {
      "text/plain": [
       "(336776, 16)"
      ]
     },
     "execution_count": 4,
     "metadata": {},
     "output_type": "execute_result"
    }
   ],
   "source": [
    "#checking new dimensions of the dataframe\n",
    "flights_df.shape"
   ]
  },
  {
   "cell_type": "markdown",
   "metadata": {},
   "source": [
    "##Some Tips\n",
    "\n",
    "* This assignment involves extensive Data frame splitting and aggregation. You should look into the details of the methods groupby, transform, sum, count, mean etc\n",
    "* Many of the tasks in the assignment can be done either through the Pandas Data Frame or by converting the data frames to Series. Many of the methods in the numpy are applicable to Series only. When stuck, try to explore the type of object (Pandas Data Frame or Numpy Series) you are dealing with."
   ]
  },
  {
   "cell_type": "markdown",
   "metadata": {},
   "source": [
    "##Question 1\n",
    "Let’s explore flights from NYC to Seattle. Use the flights dataset to answer the following questions.\n",
    "\n",
    "(a) How many flights were there from NYC airports to Seattle in 2013?"
   ]
  },
  {
   "cell_type": "code",
   "execution_count": 5,
   "metadata": {
    "collapsed": false
   },
   "outputs": [
    {
     "name": "stdout",
     "output_type": "stream",
     "text": [
      "('\\nTotal no. of flights between SEA & JFK = ', flight    2092\n",
      "dtype: int64)\n",
      "('\\nTotal no. of flights between SEA & EWR = ', flight    1831\n",
      "dtype: int64)\n",
      "('\\nTotal no. of flights between SEA & LGA = ', flight    0\n",
      "dtype: int64)\n",
      "('\\n\\nTotal no. of flights between SEA & NYC = ', flight    3923\n",
      "dtype: int64)\n"
     ]
    }
   ],
   "source": [
    "#calculating the number of flights from JFK to SEA\n",
    "JFK_flights = flights_df[(flights_df[\"dest\"]==\"SEA\") & (flights_df[\"origin\"]==\"JFK\")].count()[[\"flight\"]]\n",
    "\n",
    "#calculating the number of flights from EWR to SEA\n",
    "EWR_flights = flights_df[(flights_df[\"dest\"]==\"SEA\") & (flights_df[\"origin\"]==\"EWR\")].count()[[\"flight\"]]\n",
    "\n",
    "#calculating the number of flights from LGA to SEA\n",
    "LGA_flights = flights_df[(flights_df[\"dest\"]==\"SEA\") & (flights_df[\"origin\"]==\"LGA\")].count()[[\"flight\"]]\n",
    "\n",
    "print(\"\\nTotal no. of flights between SEA & JFK = \",JFK_flights)\n",
    "print(\"\\nTotal no. of flights between SEA & EWR = \",EWR_flights)\n",
    "print(\"\\nTotal no. of flights between SEA & LGA = \",LGA_flights)\n",
    "print(\"\\n\\nTotal no. of flights between SEA & NYC = \",LGA_flights + JFK_flights + EWR_flights)"
   ]
  },
  {
   "cell_type": "markdown",
   "metadata": {},
   "source": [
    "* Number of flights between SEA & JFK =  2092\n",
    "* Number of flights between SEA & EWR =  1831\n",
    "* Number of flights between SEA & LGA =     0\n",
    "\n",
    "* Total no. of flights between SEA & NYC = 3923\n"
   ]
  },
  {
   "cell_type": "markdown",
   "metadata": {},
   "source": [
    "(b) How many airlines fly from NYC to Seattle?"
   ]
  },
  {
   "cell_type": "code",
   "execution_count": 6,
   "metadata": {
    "collapsed": false
   },
   "outputs": [
    {
     "data": {
      "text/plain": [
       "array([('AS',), ('DL',), ('UA',), ('B6',), ('AA',)], dtype=object)"
      ]
     },
     "execution_count": 6,
     "metadata": {},
     "output_type": "execute_result"
    }
   ],
   "source": [
    "#creating a datafreame of flights between NYC & SEA & storing in NYC_to_SEA_df\n",
    "NYC_to_SEA_df = flights_df[(flights_df[\"dest\"]==\"SEA\") #setting destination as SEA\n",
    "                      & ((flights_df[\"origin\"]==\"EWR\")#setting origin as JFK, EWR & LGA\n",
    "                      | (flights_df[\"origin\"]==\"JFK\")\n",
    "                      | (flights_df[\"origin\"]==\"LGA\"))]\n",
    "\n",
    "#Selecting the carrier information from NYC to SEA & storing in \"Airlines\"\n",
    "Airlines = NYC_to_SEA_df[[\"carrier\"]] #extracting the carrier column\n",
    "\n",
    "#converting into array object\n",
    "Airlines = np.array(Airlines) \n",
    "\n",
    "#displaying\n",
    "pd.unique(Airlines)"
   ]
  },
  {
   "cell_type": "markdown",
   "metadata": {},
   "source": [
    " There are 5 unique airlines that operate between SEA & NYC. The airline codes are as follows -\n",
    " \n",
    " * AS\n",
    " * DL\n",
    " * UA\n",
    " * B6\n",
    " * AA"
   ]
  },
  {
   "cell_type": "markdown",
   "metadata": {},
   "source": [
    "(c) How many unique air planes fly from NYC to Seattle?"
   ]
  },
  {
   "cell_type": "code",
   "execution_count": 7,
   "metadata": {
    "collapsed": false
   },
   "outputs": [
    {
     "data": {
      "text/plain": [
       "936"
      ]
     },
     "execution_count": 7,
     "metadata": {},
     "output_type": "execute_result"
    }
   ],
   "source": [
    "#Selecting the tailnumber information for airplanes from NYC to SEA & storing in \"Airplanes\"\n",
    "Airplanes = NYC_to_SEA_df[[\"tailnum\"]] #extracting the tailnum column\n",
    "\n",
    "#converting into array object\n",
    "Airplanes = np.array(Airplanes)\n",
    "\n",
    "#finding the size of the array object\n",
    "len(pd.unique(Airplanes)) "
   ]
  },
  {
   "cell_type": "markdown",
   "metadata": {},
   "source": [
    "* There are 936 unique airplanes that operated between NYC & SEA in 2013."
   ]
  },
  {
   "cell_type": "markdown",
   "metadata": {},
   "source": [
    "(d) What is the average arrival delay for flights from NC to Seattle?"
   ]
  },
  {
   "cell_type": "code",
   "execution_count": 8,
   "metadata": {
    "collapsed": false
   },
   "outputs": [
    {
     "data": {
      "text/plain": [
       "-1.0990990990990992"
      ]
     },
     "execution_count": 8,
     "metadata": {},
     "output_type": "execute_result"
    }
   ],
   "source": [
    "# Finding the average arrival delay by running the describe() command\n",
    "NYC_to_SEA_df.describe()[\"arr_delay\"][1]"
   ]
  },
  {
   "cell_type": "markdown",
   "metadata": {},
   "source": [
    "The average arrival delay for flights between NYC to SEA is -1.099."
   ]
  },
  {
   "cell_type": "markdown",
   "metadata": {},
   "source": [
    "(e) What proportion of flights to Seattle come from each NYC airport?"
   ]
  },
  {
   "cell_type": "code",
   "execution_count": 9,
   "metadata": {
    "collapsed": false
   },
   "outputs": [
    {
     "data": {
      "text/plain": [
       "flight    53.326536\n",
       "dtype: float64"
      ]
     },
     "execution_count": 9,
     "metadata": {},
     "output_type": "execute_result"
    }
   ],
   "source": [
    "#proportion from JFK\n",
    "JFK_flights/(JFK_flights + EWR_flights + LGA_flights)*100"
   ]
  },
  {
   "cell_type": "code",
   "execution_count": 10,
   "metadata": {
    "collapsed": false
   },
   "outputs": [
    {
     "data": {
      "text/plain": [
       "flight    46.673464\n",
       "dtype: float64"
      ]
     },
     "execution_count": 10,
     "metadata": {},
     "output_type": "execute_result"
    }
   ],
   "source": [
    "#proportion from EWR\n",
    "EWR_flights/(JFK_flights + EWR_flights + LGA_flights)*100"
   ]
  },
  {
   "cell_type": "code",
   "execution_count": 11,
   "metadata": {
    "collapsed": false
   },
   "outputs": [
    {
     "data": {
      "text/plain": [
       "flight    0\n",
       "dtype: float64"
      ]
     },
     "execution_count": 11,
     "metadata": {},
     "output_type": "execute_result"
    }
   ],
   "source": [
    "#proportion from LGA\n",
    "LGA_flights/(JFK_flights + EWR_flights + LGA_flights)*100"
   ]
  },
  {
   "cell_type": "markdown",
   "metadata": {},
   "source": [
    "* Proportion of flights from JFK to SEA is 53.37%\n",
    "* Proportion of flights from EWR to SEA is 46.63%\n",
    "* Proportion of flights from LGA to SEA is 0%\n",
    "\n"
   ]
  },
  {
   "cell_type": "raw",
   "metadata": {},
   "source": [
    "## Question 2\n",
    "Flights are often delayed. Consider the following questions exploring delay patterns.\n",
    "\n",
    "(a) Which date has the largest average departure delay? Which date has the largest average arrival delay?"
   ]
  },
  {
   "cell_type": "code",
   "execution_count": 12,
   "metadata": {
    "collapsed": false
   },
   "outputs": [],
   "source": [
    "#combining the columns year, month & day to form a date\n",
    "flights_df[\"date\"] = pd.to_datetime(flights_df[\"year\"]*10000\n",
    "                                    +flights_df[\"month\"]*100\n",
    "                                    +flights_df[\"day\"],\n",
    "                                    format='%Y%m%d')"
   ]
  },
  {
   "cell_type": "code",
   "execution_count": 13,
   "metadata": {
    "collapsed": false
   },
   "outputs": [],
   "source": [
    "#grouping by date\n",
    "datewise_flights_df = flights_df.groupby([\"date\"])"
   ]
  },
  {
   "cell_type": "code",
   "execution_count": 14,
   "metadata": {
    "collapsed": false
   },
   "outputs": [
    {
     "data": {
      "text/plain": [
       "date\n",
       "2013-03-08    83.536921\n",
       "Name: dep_delay, dtype: float64"
      ]
     },
     "execution_count": 14,
     "metadata": {},
     "output_type": "execute_result"
    }
   ],
   "source": [
    "#sorting by mean departurevv delay & displaying the first row\n",
    "datewise_flights_df[\"dep_delay\"].mean().sort_values(ascending=False).head(1)"
   ]
  },
  {
   "cell_type": "code",
   "execution_count": 15,
   "metadata": {
    "collapsed": false
   },
   "outputs": [
    {
     "data": {
      "text/plain": [
       "date\n",
       "2013-03-08    85.862155\n",
       "Name: arr_delay, dtype: float64"
      ]
     },
     "execution_count": 15,
     "metadata": {},
     "output_type": "execute_result"
    }
   ],
   "source": [
    "#sorting by mean arrival delay & displaying the first row\n",
    "datewise_flights_df[\"arr_delay\"].mean().sort_values(ascending=False).head(1)"
   ]
  },
  {
   "cell_type": "markdown",
   "metadata": {},
   "source": [
    " * 8th March 2013 was the date with the largest average arrival and departure delay. "
   ]
  },
  {
   "cell_type": "markdown",
   "metadata": {},
   "source": [
    "(b) What was the worst day to fly out of NYC in 2013 if you dislike delayed flights?\n"
   ]
  },
  {
   "cell_type": "code",
   "execution_count": 16,
   "metadata": {
    "collapsed": false
   },
   "outputs": [
    {
     "data": {
      "text/html": [
       "<div>\n",
       "<table border=\"1\" class=\"dataframe\">\n",
       "  <thead>\n",
       "    <tr style=\"text-align: right;\">\n",
       "      <th></th>\n",
       "      <th>year</th>\n",
       "      <th>month</th>\n",
       "      <th>day</th>\n",
       "      <th>dep_time</th>\n",
       "      <th>dep_delay</th>\n",
       "      <th>arr_time</th>\n",
       "      <th>arr_delay</th>\n",
       "      <th>flight</th>\n",
       "      <th>air_time</th>\n",
       "      <th>distance</th>\n",
       "      <th>hour</th>\n",
       "      <th>minute</th>\n",
       "    </tr>\n",
       "    <tr>\n",
       "      <th>date</th>\n",
       "      <th></th>\n",
       "      <th></th>\n",
       "      <th></th>\n",
       "      <th></th>\n",
       "      <th></th>\n",
       "      <th></th>\n",
       "      <th></th>\n",
       "      <th></th>\n",
       "      <th></th>\n",
       "      <th></th>\n",
       "      <th></th>\n",
       "      <th></th>\n",
       "    </tr>\n",
       "  </thead>\n",
       "  <tbody>\n",
       "    <tr>\n",
       "      <th>2013-03-08</th>\n",
       "      <td>1970727</td>\n",
       "      <td>2937</td>\n",
       "      <td>7832</td>\n",
       "      <td>1131911</td>\n",
       "      <td>66746</td>\n",
       "      <td>1200137</td>\n",
       "      <td>68518</td>\n",
       "      <td>1971253</td>\n",
       "      <td>122690</td>\n",
       "      <td>981487</td>\n",
       "      <td>11080</td>\n",
       "      <td>23911</td>\n",
       "    </tr>\n",
       "  </tbody>\n",
       "</table>\n",
       "</div>"
      ],
      "text/plain": [
       "               year  month   day  dep_time  dep_delay  arr_time  arr_delay  \\\n",
       "date                                                                         \n",
       "2013-03-08  1970727   2937  7832   1131911      66746   1200137      68518   \n",
       "\n",
       "             flight  air_time  distance   hour  minute  \n",
       "date                                                    \n",
       "2013-03-08  1971253    122690    981487  11080   23911  "
      ]
     },
     "execution_count": 16,
     "metadata": {},
     "output_type": "execute_result"
    }
   ],
   "source": [
    "#datewise_flights_df[\"dep_delay\"].max().sort_values(ascending=False).head(1)\n",
    "flights_df.groupby([\"date\"]).sum().sort_values(by = \"dep_delay\", ascending = False).head(1)"
   ]
  },
  {
   "cell_type": "markdown",
   "metadata": {},
   "source": [
    "* 8th March 2013 was the worst day to fly out as it had maximum sum total of departure delay for a given day."
   ]
  },
  {
   "cell_type": "markdown",
   "metadata": {},
   "source": [
    "(c) Are there any seasonal patterns in departure delays for flights from NYC?"
   ]
  },
  {
   "cell_type": "code",
   "execution_count": 17,
   "metadata": {
    "collapsed": false
   },
   "outputs": [
    {
     "data": {
      "image/png": "[encoded data removed]",
      "text/plain": [
       "<matplotlib.figure.Figure at 0x228735c0>"
      ]
     },
     "metadata": {},
     "output_type": "display_data"
    }
   ],
   "source": [
    "#plotting month on x axis & dep_delay on y axis\n",
    "plt.plot(flights_df[\"month\"],flights_df[\"dep_delay\"])\n",
    "\n",
    "#labelling\n",
    "plt.title(\"Departure Delay\")\n",
    "plt.xlabel(\"Time of the year\")\n",
    "plt.ylabel(\"Delay Time\")\n",
    "plt.show()"
   ]
  },
  {
   "cell_type": "markdown",
   "metadata": {},
   "source": [
    "The following inferences can be made -\n",
    "\n",
    "* January had the maximum total delay for the entire year, probably because of bad cold & foggy weather.\n",
    "* For the following months until May, the departure delay decreases.\n",
    "* A surge in the delay is seen in the month of June, as summer time is the holiday season & the flights are full.\n",
    "* November & December also have flight delays because of thanksgiving & new year vacations."
   ]
  },
  {
   "cell_type": "markdown",
   "metadata": {},
   "source": [
    "(d) On average, how do departure delays vary over the course of a day?"
   ]
  },
  {
   "cell_type": "code",
   "execution_count": 18,
   "metadata": {
    "collapsed": false
   },
   "outputs": [
    {
     "data": {
      "image/png": "[encoded data removed]",
      "text/plain": [
       "<matplotlib.figure.Figure at 0x22875a58>"
      ]
     },
     "metadata": {},
     "output_type": "display_data"
    }
   ],
   "source": [
    "#plotting dep_time on x axis & dep_delay on y axis\n",
    "plt.plot(flights_df[\"dep_time\"],flights_df[\"dep_delay\"], color = \"purple\")\n",
    "\n",
    "#labelling\n",
    "plt.title(\"Departure Delay\")\n",
    "plt.xlabel(\"Time of the day\")\n",
    "plt.ylabel(\"Delay Time\")\n",
    "plt.show()"
   ]
  },
  {
   "cell_type": "markdown",
   "metadata": {},
   "source": [
    "The following inferences can be made about flight delays during the day -\n",
    "\n",
    "* Longer delays are observed from 5 AM until afternoon time. This may be because of the start of the day & many people head to different locations. There is a gradual increase in the flight delay during this time period, evident from the overplotted region between 5 AM & 2 PM.\n",
    "* After 2 PM, the flight delays show a decreasing trend until the evening time. These are off peak hours, as most people are working.\n",
    "* After 6 PM & until late night, delays increse again. This may be because people finish their work & head back to their home cities. Some of the longer duration flights depart at the night time."
   ]
  },
  {
   "cell_type": "markdown",
   "metadata": {},
   "source": [
    "## Question 3\n",
    "    Which flight departing NYC in 2013 flew the fastest?"
   ]
  },
  {
   "cell_type": "code",
   "execution_count": 19,
   "metadata": {
    "collapsed": false
   },
   "outputs": [],
   "source": [
    "#adding a column for speed\n",
    "flights_df[\"speed\"] = flights_df[\"distance\"] / flights_df[\"air_time\"]"
   ]
  },
  {
   "cell_type": "code",
   "execution_count": 20,
   "metadata": {
    "collapsed": false
   },
   "outputs": [
    {
     "data": {
      "text/html": [
       "<div>\n",
       "<table border=\"1\" class=\"dataframe\">\n",
       "  <thead>\n",
       "    <tr style=\"text-align: right;\">\n",
       "      <th></th>\n",
       "      <th>flight</th>\n",
       "      <th>carrier</th>\n",
       "      <th>tailnum</th>\n",
       "      <th>origin</th>\n",
       "      <th>dest</th>\n",
       "      <th>date</th>\n",
       "      <th>speed</th>\n",
       "    </tr>\n",
       "  </thead>\n",
       "  <tbody>\n",
       "    <tr>\n",
       "      <th>168042</th>\n",
       "      <td>1499</td>\n",
       "      <td>DL</td>\n",
       "      <td>N666DN</td>\n",
       "      <td>LGA</td>\n",
       "      <td>ATL</td>\n",
       "      <td>2013-05-25</td>\n",
       "      <td>11.723077</td>\n",
       "    </tr>\n",
       "  </tbody>\n",
       "</table>\n",
       "</div>"
      ],
      "text/plain": [
       "        flight carrier tailnum origin dest       date      speed\n",
       "168042    1499      DL  N666DN    LGA  ATL 2013-05-25  11.723077"
      ]
     },
     "execution_count": 20,
     "metadata": {},
     "output_type": "execute_result"
    }
   ],
   "source": [
    "#defining aggregate function\n",
    "aggregations = {\n",
    "    \"speed\": lambda x: max(x),\n",
    "}\n",
    "\n",
    "#grouping flight wise\n",
    "flightwise_df = flights_df.groupby([\"flight\",\"carrier\",\"tailnum\",\"origin\",\"dest\",\"date\"], \n",
    "                                   as_index = False).agg(aggregations)\n",
    "\n",
    "#displaying the fastest flight\n",
    "flightwise_df.sort_values(by=\"speed\", ascending=False).head(1)"
   ]
  },
  {
   "cell_type": "markdown",
   "metadata": {},
   "source": [
    "The flight departing NYC which flew the fastest in 2013 -\n",
    "\n",
    "* Flight DL 1499 from LGA to ATL on 25th May 2013."
   ]
  },
  {
   "cell_type": "markdown",
   "metadata": {},
   "source": [
    "## Question 4\n",
    "Which flights (i.e. carrier + flight + dest) happen every day? Where do they fly to?"
   ]
  },
  {
   "cell_type": "code",
   "execution_count": 21,
   "metadata": {
    "collapsed": false
   },
   "outputs": [
    {
     "data": {
      "text/html": [
       "<div>\n",
       "<table border=\"1\" class=\"dataframe\">\n",
       "  <thead>\n",
       "    <tr style=\"text-align: right;\">\n",
       "      <th></th>\n",
       "      <th>carrier</th>\n",
       "      <th>flight</th>\n",
       "      <th>dest</th>\n",
       "    </tr>\n",
       "  </thead>\n",
       "  <tbody>\n",
       "    <tr>\n",
       "      <th>767</th>\n",
       "      <td>AA</td>\n",
       "      <td>59</td>\n",
       "      <td>SFO</td>\n",
       "    </tr>\n",
       "    <tr>\n",
       "      <th>775</th>\n",
       "      <td>AA</td>\n",
       "      <td>119</td>\n",
       "      <td>LAX</td>\n",
       "    </tr>\n",
       "    <tr>\n",
       "      <th>783</th>\n",
       "      <td>AA</td>\n",
       "      <td>181</td>\n",
       "      <td>LAX</td>\n",
       "    </tr>\n",
       "    <tr>\n",
       "      <th>904</th>\n",
       "      <td>AA</td>\n",
       "      <td>1357</td>\n",
       "      <td>SJU</td>\n",
       "    </tr>\n",
       "    <tr>\n",
       "      <th>914</th>\n",
       "      <td>AA</td>\n",
       "      <td>1611</td>\n",
       "      <td>MIA</td>\n",
       "    </tr>\n",
       "    <tr>\n",
       "      <th>1118</th>\n",
       "      <td>B6</td>\n",
       "      <td>219</td>\n",
       "      <td>CLT</td>\n",
       "    </tr>\n",
       "    <tr>\n",
       "      <th>1147</th>\n",
       "      <td>B6</td>\n",
       "      <td>359</td>\n",
       "      <td>BUR</td>\n",
       "    </tr>\n",
       "    <tr>\n",
       "      <th>1150</th>\n",
       "      <td>B6</td>\n",
       "      <td>371</td>\n",
       "      <td>FLL</td>\n",
       "    </tr>\n",
       "    <tr>\n",
       "      <th>1169</th>\n",
       "      <td>B6</td>\n",
       "      <td>431</td>\n",
       "      <td>SRQ</td>\n",
       "    </tr>\n",
       "    <tr>\n",
       "      <th>1243</th>\n",
       "      <td>B6</td>\n",
       "      <td>703</td>\n",
       "      <td>SJU</td>\n",
       "    </tr>\n",
       "    <tr>\n",
       "      <th>1379</th>\n",
       "      <td>B6</td>\n",
       "      <td>1783</td>\n",
       "      <td>MCO</td>\n",
       "    </tr>\n",
       "    <tr>\n",
       "      <th>2012</th>\n",
       "      <td>DL</td>\n",
       "      <td>2159</td>\n",
       "      <td>MCO</td>\n",
       "    </tr>\n",
       "    <tr>\n",
       "      <th>2081</th>\n",
       "      <td>DL</td>\n",
       "      <td>2391</td>\n",
       "      <td>TPA</td>\n",
       "    </tr>\n",
       "    <tr>\n",
       "      <th>4631</th>\n",
       "      <td>EV</td>\n",
       "      <td>5712</td>\n",
       "      <td>IAD</td>\n",
       "    </tr>\n",
       "    <tr>\n",
       "      <th>5116</th>\n",
       "      <td>UA</td>\n",
       "      <td>15</td>\n",
       "      <td>HNL</td>\n",
       "    </tr>\n",
       "    <tr>\n",
       "      <th>10607</th>\n",
       "      <td>VX</td>\n",
       "      <td>251</td>\n",
       "      <td>LAS</td>\n",
       "    </tr>\n",
       "    <tr>\n",
       "      <th>10609</th>\n",
       "      <td>VX</td>\n",
       "      <td>407</td>\n",
       "      <td>LAX</td>\n",
       "    </tr>\n",
       "    <tr>\n",
       "      <th>10613</th>\n",
       "      <td>VX</td>\n",
       "      <td>413</td>\n",
       "      <td>LAX</td>\n",
       "    </tr>\n",
       "  </tbody>\n",
       "</table>\n",
       "</div>"
      ],
      "text/plain": [
       "      carrier  flight dest\n",
       "767        AA      59  SFO\n",
       "775        AA     119  LAX\n",
       "783        AA     181  LAX\n",
       "904        AA    1357  SJU\n",
       "914        AA    1611  MIA\n",
       "1118       B6     219  CLT\n",
       "1147       B6     359  BUR\n",
       "1150       B6     371  FLL\n",
       "1169       B6     431  SRQ\n",
       "1243       B6     703  SJU\n",
       "1379       B6    1783  MCO\n",
       "2012       DL    2159  MCO\n",
       "2081       DL    2391  TPA\n",
       "4631       EV    5712  IAD\n",
       "5116       UA      15  HNL\n",
       "10607      VX     251  LAS\n",
       "10609      VX     407  LAX\n",
       "10613      VX     413  LAX"
      ]
     },
     "execution_count": 21,
     "metadata": {},
     "output_type": "execute_result"
    }
   ],
   "source": [
    "#grouping the flights_df dataset by carrier, flight & dest & performing the count operation\n",
    "daily_group=flights_df.groupby([\"carrier\",\"flight\",\"dest\"], as_index=False).count()\n",
    "\n",
    "#if the date count is equal to 365 for any group, it means that it flew on all the days of the year 2013\n",
    "daily_group[daily_group[\"date\"]==365][[\"carrier\",\"flight\",\"dest\"]]"
   ]
  },
  {
   "cell_type": "markdown",
   "metadata": {},
   "source": [
    "* There are 18 flights that flew everyday in the year 2013. They have been displayed above with the flight details and destinations they fly too.\n",
    "\n",
    "Logic - \n",
    "-Create a grouped dataframe with carrier, flight & destination, set the as_index as False.\n",
    "-Perform count operation on the group.\n",
    "-Filter the group for carrier, flight number & destination based on the criteria where the count of date is equal to 365. \n",
    "-These flights may even fly more than once in a single day, as the question doesnt specifiy that flight should operate exactly once a day, everyday for the year.\n",
    "\n"
   ]
  },
  {
   "cell_type": "markdown",
   "metadata": {},
   "source": [
    "## Question 5\n",
    "Develop one research question you can address using the nycflights2013 dataset. Provide two visualizations to support your exploration of this question. Discuss what you find.\n"
   ]
  },
  {
   "cell_type": "markdown",
   "metadata": {
    "collapsed": false
   },
   "source": [
    "* Research Question : Which is the best airline in terms of speed, departure and arrival delay for the year 2013 ?"
   ]
  },
  {
   "cell_type": "markdown",
   "metadata": {},
   "source": [
    "* We can create heatmaps in order to explore this research question."
   ]
  },
  {
   "cell_type": "code",
   "execution_count": 22,
   "metadata": {
    "collapsed": false
   },
   "outputs": [
    {
     "data": {
      "text/plain": [
       "<matplotlib.axes._subplots.AxesSubplot at 0xd8fc128>"
      ]
     },
     "execution_count": 22,
     "metadata": {},
     "output_type": "execute_result"
    },
    {
     "data": {
      "image/png": "[encoded data removed]",
      "text/plain": [
       "<matplotlib.figure.Figure at 0x22eaaeb8>"
      ]
     },
     "metadata": {},
     "output_type": "display_data"
    }
   ],
   "source": [
    "#creating a grouped dataframe by month & carrier\n",
    "month_carr_df = flights_df.groupby([\"month\",\"carrier\"],as_index = False).mean()\n",
    "\n",
    "#creating a speed pivot table\n",
    "speed_pvt=month_carr_df.pivot(\"carrier\",\"month\",\"speed\")\n",
    "\n",
    "#creating a heatmap\n",
    "sns.heatmap(speed_pvt, annot=True)"
   ]
  },
  {
   "cell_type": "markdown",
   "metadata": {},
   "source": [
    "* We can see from the heatmap that the carrier \"HA\" has the highest average speed across all months. The carriers \"US\" & \"9E\" do not perform well when it comes to speed."
   ]
  },
  {
   "cell_type": "code",
   "execution_count": 23,
   "metadata": {
    "collapsed": false
   },
   "outputs": [
    {
     "data": {
      "text/plain": [
       "<matplotlib.axes._subplots.AxesSubplot at 0x21cfc908>"
      ]
     },
     "execution_count": 23,
     "metadata": {},
     "output_type": "execute_result"
    },
    {
     "data": {
      "image/png": "[encoded data removed]",
      "text/plain": [
       "<matplotlib.figure.Figure at 0x254f96d8>"
      ]
     },
     "metadata": {},
     "output_type": "display_data"
    }
   ],
   "source": [
    "#creating a heat map on dep_delay\n",
    "dep_pvt=month_carr_df.pivot(\"carrier\",\"month\",\"dep_delay\")\n",
    "\n",
    "#creating a heatmap\n",
    "sns.heatmap(dep_pvt, annot=True)"
   ]
  },
  {
   "cell_type": "markdown",
   "metadata": {},
   "source": [
    "* We can observe that all airlines have some amount of average delay. Carrier \"HA\" turns out to be best in terms of departure delay, except for the month of January, when it had slightly more than its usual delay. "
   ]
  },
  {
   "cell_type": "code",
   "execution_count": 24,
   "metadata": {
    "collapsed": false
   },
   "outputs": [
    {
     "data": {
      "text/plain": [
       "<matplotlib.axes._subplots.AxesSubplot at 0x22dcc828>"
      ]
     },
     "execution_count": 24,
     "metadata": {},
     "output_type": "execute_result"
    },
    {
     "data": {
      "image/png": "[encoded data removed]",
      "text/plain": [
       "<matplotlib.figure.Figure at 0x2285ca20>"
      ]
     },
     "metadata": {},
     "output_type": "display_data"
    }
   ],
   "source": [
    "#creating a pivot table on arr_delay\n",
    "arr_pvt=month_carr_df.pivot(\"carrier\",\"month\",\"arr_delay\")\n",
    "\n",
    "#creating a heatmap\n",
    "sns.heatmap(arr_pvt, annot=True)"
   ]
  },
  {
   "cell_type": "markdown",
   "metadata": {},
   "source": [
    "* We can observe that carrier \"F9\" & \"FL\" arrive at their destinations late quite frequently. Carrier \"HA\" performs well again as it arrives at its destination in advance quite frequently. Carrier \"AS\" also does well in this respect."
   ]
  },
  {
   "cell_type": "markdown",
   "metadata": {},
   "source": [
    "## Question 6\n",
    "What weather conditions are associated with flight delays leaving NYC? Use graphics to explore."
   ]
  },
  {
   "cell_type": "markdown",
   "metadata": {},
   "source": [
    "* We can import the weather data provided with the dataset and merge it with delay columns from the flights data set. After that We can see the correlation of the delays with various weather factors. Based on the correlation values, we can drill in further & examine the finer details."
   ]
  },
  {
   "cell_type": "code",
   "execution_count": 25,
   "metadata": {
    "collapsed": false
   },
   "outputs": [],
   "source": [
    "# importing the weather data\n",
    "weather_df= pd.read_csv('weather.csv')"
   ]
  },
  {
   "cell_type": "code",
   "execution_count": 26,
   "metadata": {
    "collapsed": true
   },
   "outputs": [],
   "source": [
    "#deleting the \"Unnamed: 0\" column\n",
    "del weather_df[\"Unnamed: 0\"]"
   ]
  },
  {
   "cell_type": "code",
   "execution_count": 27,
   "metadata": {
    "collapsed": false
   },
   "outputs": [
    {
     "data": {
      "text/html": [
       "<div>\n",
       "<table border=\"1\" class=\"dataframe\">\n",
       "  <thead>\n",
       "    <tr style=\"text-align: right;\">\n",
       "      <th></th>\n",
       "      <th>origin</th>\n",
       "      <th>year</th>\n",
       "      <th>month</th>\n",
       "      <th>day</th>\n",
       "      <th>hour</th>\n",
       "      <th>temp</th>\n",
       "      <th>dewp</th>\n",
       "      <th>humid</th>\n",
       "      <th>wind_dir</th>\n",
       "      <th>wind_speed</th>\n",
       "      <th>wind_gust</th>\n",
       "      <th>precip</th>\n",
       "      <th>pressure</th>\n",
       "      <th>visib</th>\n",
       "    </tr>\n",
       "  </thead>\n",
       "  <tbody>\n",
       "    <tr>\n",
       "      <th>0</th>\n",
       "      <td>EWR</td>\n",
       "      <td>2013</td>\n",
       "      <td>1</td>\n",
       "      <td>1</td>\n",
       "      <td>0</td>\n",
       "      <td>37.04</td>\n",
       "      <td>21.92</td>\n",
       "      <td>53.97</td>\n",
       "      <td>230</td>\n",
       "      <td>10.35702</td>\n",
       "      <td>11.918651</td>\n",
       "      <td>0</td>\n",
       "      <td>1013.9</td>\n",
       "      <td>10</td>\n",
       "    </tr>\n",
       "    <tr>\n",
       "      <th>1</th>\n",
       "      <td>EWR</td>\n",
       "      <td>2013</td>\n",
       "      <td>1</td>\n",
       "      <td>1</td>\n",
       "      <td>1</td>\n",
       "      <td>37.04</td>\n",
       "      <td>21.92</td>\n",
       "      <td>53.97</td>\n",
       "      <td>230</td>\n",
       "      <td>13.80936</td>\n",
       "      <td>15.891535</td>\n",
       "      <td>0</td>\n",
       "      <td>1013.0</td>\n",
       "      <td>10</td>\n",
       "    </tr>\n",
       "    <tr>\n",
       "      <th>2</th>\n",
       "      <td>EWR</td>\n",
       "      <td>2013</td>\n",
       "      <td>1</td>\n",
       "      <td>1</td>\n",
       "      <td>2</td>\n",
       "      <td>37.94</td>\n",
       "      <td>21.92</td>\n",
       "      <td>52.09</td>\n",
       "      <td>230</td>\n",
       "      <td>12.65858</td>\n",
       "      <td>14.567241</td>\n",
       "      <td>0</td>\n",
       "      <td>1012.6</td>\n",
       "      <td>10</td>\n",
       "    </tr>\n",
       "    <tr>\n",
       "      <th>3</th>\n",
       "      <td>EWR</td>\n",
       "      <td>2013</td>\n",
       "      <td>1</td>\n",
       "      <td>1</td>\n",
       "      <td>3</td>\n",
       "      <td>37.94</td>\n",
       "      <td>23.00</td>\n",
       "      <td>54.51</td>\n",
       "      <td>230</td>\n",
       "      <td>13.80936</td>\n",
       "      <td>15.891535</td>\n",
       "      <td>0</td>\n",
       "      <td>1012.7</td>\n",
       "      <td>10</td>\n",
       "    </tr>\n",
       "    <tr>\n",
       "      <th>4</th>\n",
       "      <td>EWR</td>\n",
       "      <td>2013</td>\n",
       "      <td>1</td>\n",
       "      <td>1</td>\n",
       "      <td>4</td>\n",
       "      <td>37.94</td>\n",
       "      <td>24.08</td>\n",
       "      <td>57.04</td>\n",
       "      <td>240</td>\n",
       "      <td>14.96014</td>\n",
       "      <td>17.215830</td>\n",
       "      <td>0</td>\n",
       "      <td>1012.8</td>\n",
       "      <td>10</td>\n",
       "    </tr>\n",
       "  </tbody>\n",
       "</table>\n",
       "</div>"
      ],
      "text/plain": [
       "  origin  year  month  day  hour   temp   dewp  humid  wind_dir  wind_speed  \\\n",
       "0    EWR  2013      1    1     0  37.04  21.92  53.97       230    10.35702   \n",
       "1    EWR  2013      1    1     1  37.04  21.92  53.97       230    13.80936   \n",
       "2    EWR  2013      1    1     2  37.94  21.92  52.09       230    12.65858   \n",
       "3    EWR  2013      1    1     3  37.94  23.00  54.51       230    13.80936   \n",
       "4    EWR  2013      1    1     4  37.94  24.08  57.04       240    14.96014   \n",
       "\n",
       "   wind_gust  precip  pressure  visib  \n",
       "0  11.918651       0    1013.9     10  \n",
       "1  15.891535       0    1013.0     10  \n",
       "2  14.567241       0    1012.6     10  \n",
       "3  15.891535       0    1012.7     10  \n",
       "4  17.215830       0    1012.8     10  "
      ]
     },
     "execution_count": 27,
     "metadata": {},
     "output_type": "execute_result"
    }
   ],
   "source": [
    "#viewing the data\n",
    "weather_df.head()"
   ]
  },
  {
   "cell_type": "code",
   "execution_count": 28,
   "metadata": {
    "collapsed": false
   },
   "outputs": [
    {
     "data": {
      "text/html": [
       "<div>\n",
       "<table border=\"1\" class=\"dataframe\">\n",
       "  <thead>\n",
       "    <tr style=\"text-align: right;\">\n",
       "      <th></th>\n",
       "      <th>month</th>\n",
       "      <th>dep_delay</th>\n",
       "      <th>arr_delay</th>\n",
       "    </tr>\n",
       "  </thead>\n",
       "  <tbody>\n",
       "    <tr>\n",
       "      <th>0</th>\n",
       "      <td>1</td>\n",
       "      <td>10.036665</td>\n",
       "      <td>6.129972</td>\n",
       "    </tr>\n",
       "    <tr>\n",
       "      <th>1</th>\n",
       "      <td>2</td>\n",
       "      <td>10.816843</td>\n",
       "      <td>5.613019</td>\n",
       "    </tr>\n",
       "    <tr>\n",
       "      <th>2</th>\n",
       "      <td>3</td>\n",
       "      <td>13.227076</td>\n",
       "      <td>5.807577</td>\n",
       "    </tr>\n",
       "    <tr>\n",
       "      <th>3</th>\n",
       "      <td>4</td>\n",
       "      <td>13.938038</td>\n",
       "      <td>11.176063</td>\n",
       "    </tr>\n",
       "    <tr>\n",
       "      <th>4</th>\n",
       "      <td>5</td>\n",
       "      <td>12.986859</td>\n",
       "      <td>3.521509</td>\n",
       "    </tr>\n",
       "  </tbody>\n",
       "</table>\n",
       "</div>"
      ],
      "text/plain": [
       "   month  dep_delay  arr_delay\n",
       "0      1  10.036665   6.129972\n",
       "1      2  10.816843   5.613019\n",
       "2      3  13.227076   5.807577\n",
       "3      4  13.938038  11.176063\n",
       "4      5  12.986859   3.521509"
      ]
     },
     "execution_count": 28,
     "metadata": {},
     "output_type": "execute_result"
    }
   ],
   "source": [
    "#grouping by month on mean values and selecting columns\n",
    "delay_df = flights_df.groupby([\"month\"] , as_index = False).mean()[[\"month\",\n",
    "                                                                    \"dep_delay\",\n",
    "                                                                    \"arr_delay\"]]\n",
    "delay_df.head()"
   ]
  },
  {
   "cell_type": "code",
   "execution_count": 29,
   "metadata": {
    "collapsed": false
   },
   "outputs": [
    {
     "data": {
      "text/html": [
       "<div>\n",
       "<table border=\"1\" class=\"dataframe\">\n",
       "  <thead>\n",
       "    <tr style=\"text-align: right;\">\n",
       "      <th></th>\n",
       "      <th>month</th>\n",
       "      <th>temp</th>\n",
       "      <th>dewp</th>\n",
       "      <th>humid</th>\n",
       "      <th>wind_dir</th>\n",
       "      <th>wind_speed</th>\n",
       "      <th>wind_gust</th>\n",
       "      <th>precip</th>\n",
       "      <th>pressure</th>\n",
       "      <th>visib</th>\n",
       "    </tr>\n",
       "  </thead>\n",
       "  <tbody>\n",
       "    <tr>\n",
       "      <th>0</th>\n",
       "      <td>1</td>\n",
       "      <td>35.563176</td>\n",
       "      <td>22.701777</td>\n",
       "      <td>61.948385</td>\n",
       "      <td>214.801097</td>\n",
       "      <td>9.681731</td>\n",
       "      <td>11.141542</td>\n",
       "      <td>0.003634</td>\n",
       "      <td>1021.016794</td>\n",
       "      <td>8.567779</td>\n",
       "    </tr>\n",
       "    <tr>\n",
       "      <th>1</th>\n",
       "      <td>2</td>\n",
       "      <td>34.132906</td>\n",
       "      <td>21.705663</td>\n",
       "      <td>62.918152</td>\n",
       "      <td>203.424658</td>\n",
       "      <td>12.183519</td>\n",
       "      <td>14.020550</td>\n",
       "      <td>0.004113</td>\n",
       "      <td>1016.275170</td>\n",
       "      <td>8.615127</td>\n",
       "    </tr>\n",
       "    <tr>\n",
       "      <th>2</th>\n",
       "      <td>3</td>\n",
       "      <td>40.043311</td>\n",
       "      <td>24.913136</td>\n",
       "      <td>57.591346</td>\n",
       "      <td>235.247934</td>\n",
       "      <td>11.507800</td>\n",
       "      <td>13.242946</td>\n",
       "      <td>0.002598</td>\n",
       "      <td>1013.457607</td>\n",
       "      <td>9.286003</td>\n",
       "    </tr>\n",
       "    <tr>\n",
       "      <th>3</th>\n",
       "      <td>4</td>\n",
       "      <td>52.901000</td>\n",
       "      <td>34.625000</td>\n",
       "      <td>54.403236</td>\n",
       "      <td>169.614286</td>\n",
       "      <td>9.541884</td>\n",
       "      <td>10.980609</td>\n",
       "      <td>0.001472</td>\n",
       "      <td>1020.420916</td>\n",
       "      <td>9.544792</td>\n",
       "    </tr>\n",
       "    <tr>\n",
       "      <th>4</th>\n",
       "      <td>5</td>\n",
       "      <td>63.103710</td>\n",
       "      <td>49.001774</td>\n",
       "      <td>63.758589</td>\n",
       "      <td>176.731572</td>\n",
       "      <td>8.298299</td>\n",
       "      <td>9.549517</td>\n",
       "      <td>0.003710</td>\n",
       "      <td>1018.464899</td>\n",
       "      <td>8.964046</td>\n",
       "    </tr>\n",
       "  </tbody>\n",
       "</table>\n",
       "</div>"
      ],
      "text/plain": [
       "   month       temp       dewp      humid    wind_dir  wind_speed  wind_gust  \\\n",
       "0      1  35.563176  22.701777  61.948385  214.801097    9.681731  11.141542   \n",
       "1      2  34.132906  21.705663  62.918152  203.424658   12.183519  14.020550   \n",
       "2      3  40.043311  24.913136  57.591346  235.247934   11.507800  13.242946   \n",
       "3      4  52.901000  34.625000  54.403236  169.614286    9.541884  10.980609   \n",
       "4      5  63.103710  49.001774  63.758589  176.731572    8.298299   9.549517   \n",
       "\n",
       "     precip     pressure     visib  \n",
       "0  0.003634  1021.016794  8.567779  \n",
       "1  0.004113  1016.275170  8.615127  \n",
       "2  0.002598  1013.457607  9.286003  \n",
       "3  0.001472  1020.420916  9.544792  \n",
       "4  0.003710  1018.464899  8.964046  "
      ]
     },
     "execution_count": 29,
     "metadata": {},
     "output_type": "execute_result"
    }
   ],
   "source": [
    "#grouping by month on mean values and selecting columns\n",
    "conditions_df = weather_df.groupby([\"month\"], as_index = False).mean()[[\"month\",\"temp\", \"dewp\", \n",
    "                                                                        \"humid\", \"wind_dir\",\"wind_speed\",\"wind_gust\",\n",
    "                                                                        \"precip\",\"pressure\",\"visib\"]]\n",
    "conditions_df.head()"
   ]
  },
  {
   "cell_type": "code",
   "execution_count": 30,
   "metadata": {
    "collapsed": false
   },
   "outputs": [
    {
     "data": {
      "text/html": [
       "<div>\n",
       "<table border=\"1\" class=\"dataframe\">\n",
       "  <thead>\n",
       "    <tr style=\"text-align: right;\">\n",
       "      <th></th>\n",
       "      <th>month</th>\n",
       "      <th>dep_delay</th>\n",
       "      <th>arr_delay</th>\n",
       "      <th>temp</th>\n",
       "      <th>dewp</th>\n",
       "      <th>humid</th>\n",
       "      <th>wind_dir</th>\n",
       "      <th>wind_speed</th>\n",
       "      <th>wind_gust</th>\n",
       "      <th>precip</th>\n",
       "      <th>pressure</th>\n",
       "      <th>visib</th>\n",
       "    </tr>\n",
       "  </thead>\n",
       "  <tbody>\n",
       "    <tr>\n",
       "      <th>0</th>\n",
       "      <td>1</td>\n",
       "      <td>10.036665</td>\n",
       "      <td>6.129972</td>\n",
       "      <td>35.563176</td>\n",
       "      <td>22.701777</td>\n",
       "      <td>61.948385</td>\n",
       "      <td>214.801097</td>\n",
       "      <td>9.681731</td>\n",
       "      <td>11.141542</td>\n",
       "      <td>0.003634</td>\n",
       "      <td>1021.016794</td>\n",
       "      <td>8.567779</td>\n",
       "    </tr>\n",
       "    <tr>\n",
       "      <th>1</th>\n",
       "      <td>2</td>\n",
       "      <td>10.816843</td>\n",
       "      <td>5.613019</td>\n",
       "      <td>34.132906</td>\n",
       "      <td>21.705663</td>\n",
       "      <td>62.918152</td>\n",
       "      <td>203.424658</td>\n",
       "      <td>12.183519</td>\n",
       "      <td>14.020550</td>\n",
       "      <td>0.004113</td>\n",
       "      <td>1016.275170</td>\n",
       "      <td>8.615127</td>\n",
       "    </tr>\n",
       "    <tr>\n",
       "      <th>2</th>\n",
       "      <td>3</td>\n",
       "      <td>13.227076</td>\n",
       "      <td>5.807577</td>\n",
       "      <td>40.043311</td>\n",
       "      <td>24.913136</td>\n",
       "      <td>57.591346</td>\n",
       "      <td>235.247934</td>\n",
       "      <td>11.507800</td>\n",
       "      <td>13.242946</td>\n",
       "      <td>0.002598</td>\n",
       "      <td>1013.457607</td>\n",
       "      <td>9.286003</td>\n",
       "    </tr>\n",
       "    <tr>\n",
       "      <th>3</th>\n",
       "      <td>4</td>\n",
       "      <td>13.938038</td>\n",
       "      <td>11.176063</td>\n",
       "      <td>52.901000</td>\n",
       "      <td>34.625000</td>\n",
       "      <td>54.403236</td>\n",
       "      <td>169.614286</td>\n",
       "      <td>9.541884</td>\n",
       "      <td>10.980609</td>\n",
       "      <td>0.001472</td>\n",
       "      <td>1020.420916</td>\n",
       "      <td>9.544792</td>\n",
       "    </tr>\n",
       "    <tr>\n",
       "      <th>4</th>\n",
       "      <td>5</td>\n",
       "      <td>12.986859</td>\n",
       "      <td>3.521509</td>\n",
       "      <td>63.103710</td>\n",
       "      <td>49.001774</td>\n",
       "      <td>63.758589</td>\n",
       "      <td>176.731572</td>\n",
       "      <td>8.298299</td>\n",
       "      <td>9.549517</td>\n",
       "      <td>0.003710</td>\n",
       "      <td>1018.464899</td>\n",
       "      <td>8.964046</td>\n",
       "    </tr>\n",
       "  </tbody>\n",
       "</table>\n",
       "</div>"
      ],
      "text/plain": [
       "   month  dep_delay  arr_delay       temp       dewp      humid    wind_dir  \\\n",
       "0      1  10.036665   6.129972  35.563176  22.701777  61.948385  214.801097   \n",
       "1      2  10.816843   5.613019  34.132906  21.705663  62.918152  203.424658   \n",
       "2      3  13.227076   5.807577  40.043311  24.913136  57.591346  235.247934   \n",
       "3      4  13.938038  11.176063  52.901000  34.625000  54.403236  169.614286   \n",
       "4      5  12.986859   3.521509  63.103710  49.001774  63.758589  176.731572   \n",
       "\n",
       "   wind_speed  wind_gust    precip     pressure     visib  \n",
       "0    9.681731  11.141542  0.003634  1021.016794  8.567779  \n",
       "1   12.183519  14.020550  0.004113  1016.275170  8.615127  \n",
       "2   11.507800  13.242946  0.002598  1013.457607  9.286003  \n",
       "3    9.541884  10.980609  0.001472  1020.420916  9.544792  \n",
       "4    8.298299   9.549517  0.003710  1018.464899  8.964046  "
      ]
     },
     "execution_count": 30,
     "metadata": {},
     "output_type": "execute_result"
    }
   ],
   "source": [
    "#merging the flight & weather conditions data based on month\n",
    "mean_weather_df = pd.merge(delay_df, conditions_df, on = \"month\")\n",
    "mean_weather_df.head()"
   ]
  },
  {
   "cell_type": "code",
   "execution_count": 31,
   "metadata": {
    "collapsed": false
   },
   "outputs": [
    {
     "data": {
      "text/plain": [
       "<matplotlib.axes._subplots.AxesSubplot at 0x203cf358>"
      ]
     },
     "execution_count": 31,
     "metadata": {},
     "output_type": "execute_result"
    },
    {
     "data": {
      "image/png": "[encoded data removed]",
      "text/plain": [
       "<matplotlib.figure.Figure at 0x28fad4a8>"
      ]
     },
     "metadata": {},
     "output_type": "display_data"
    }
   ],
   "source": [
    "#checking the arrival & departure delay patter for the year\n",
    "mean_weather_df.plot(x = \"month\", y =[\"arr_delay\",\"dep_delay\"])"
   ]
  },
  {
   "cell_type": "markdown",
   "metadata": {},
   "source": [
    "* Since the pattern is very similar, we check the correlation value as well."
   ]
  },
  {
   "cell_type": "code",
   "execution_count": 32,
   "metadata": {
    "collapsed": false
   },
   "outputs": [
    {
     "data": {
      "text/plain": [
       "0.93367550245983544"
      ]
     },
     "execution_count": 32,
     "metadata": {},
     "output_type": "execute_result"
    }
   ],
   "source": [
    "#checking correlation\n",
    "mean_weather_df.corr()[\"arr_delay\"][\"dep_delay\"]"
   ]
  },
  {
   "cell_type": "code",
   "execution_count": 33,
   "metadata": {
    "collapsed": false
   },
   "outputs": [
    {
     "name": "stderr",
     "output_type": "stream",
     "text": [
      "C:\\Users\\Aamir-PC\\Anaconda2\\lib\\site-packages\\seaborn\\linearmodels.py:1283: UserWarning: The `corrplot` function has been deprecated in favor of `heatmap` and will be removed in a forthcoming release. Please update your code.\n",
      "  warnings.warn((\"The `corrplot` function has been deprecated in favor \"\n",
      "C:\\Users\\Aamir-PC\\Anaconda2\\lib\\site-packages\\seaborn\\linearmodels.py:1349: UserWarning: The `symmatplot` function has been deprecated in favor of `heatmap` and will be removed in a forthcoming release. Please update your code.\n",
      "  warnings.warn((\"The `symmatplot` function has been deprecated in favor \"\n"
     ]
    },
    {
     "data": {
      "text/plain": [
       "<matplotlib.axes._subplots.AxesSubplot at 0x205ea908>"
      ]
     },
     "execution_count": 33,
     "metadata": {},
     "output_type": "execute_result"
    },
    {
     "data": {
      "image/png": "[encoded data removed]",
      "text/plain": [
       "<matplotlib.figure.Figure at 0x204d8cc0>"
      ]
     },
     "metadata": {},
     "output_type": "display_data"
    }
   ],
   "source": [
    "sns.corrplot(mean_weather_df.pct_change(), annot=False, diag_names=False)"
   ]
  },
  {
   "cell_type": "markdown",
   "metadata": {},
   "source": [
    "* We can see from the correlation matrix that the \"dep_delay\" & \"arr_delay\" have some degree of correlation with \"humid\" and \"dewp\". Therefore, plotting these datapoints across the year below."
   ]
  },
  {
   "cell_type": "code",
   "execution_count": 34,
   "metadata": {
    "collapsed": false
   },
   "outputs": [
    {
     "data": {
      "text/plain": [
       "<matplotlib.axes._subplots.AxesSubplot at 0x21bf1400>"
      ]
     },
     "execution_count": 34,
     "metadata": {},
     "output_type": "execute_result"
    },
    {
     "data": {
      "image/png": "[encoded data removed]",
      "text/plain": [
       "<matplotlib.figure.Figure at 0x204d87f0>"
      ]
     },
     "metadata": {},
     "output_type": "display_data"
    },
    {
     "data": {
      "image/png": "[encoded data removed]",
      "text/plain": [
       "<matplotlib.figure.Figure at 0x21b54a20>"
      ]
     },
     "metadata": {},
     "output_type": "display_data"
    }
   ],
   "source": [
    "#plotting delay Vs humid & dewp for all months\n",
    "mean_weather_df.plot(x = \"month\", y =[\"humid\",\"dep_delay\",\"arr_delay\"])\n",
    "mean_weather_df.plot(x = \"month\", y =[\"dewp\",\"dep_delay\",\"arr_delay\"])"
   ]
  },
  {
   "cell_type": "markdown",
   "metadata": {},
   "source": [
    "* We can see that there is an upsurge in both delays after May up until the beginning of September.\n",
    "* We can observe a corresponding upsurge during the same time for humidity & dew point. Infact , dew point shows a spike.\n",
    "* Overall the humidity & dew point tend to follow a similar pattern like that of the delays, which is also evident from the correlation value."
   ]
  }
 ],
 "metadata": {
  "kernelspec": {
   "display_name": "Python 2",
   "language": "python",
   "name": "python2"
  },
  "language_info": {
   "codemirror_mode": {
    "name": "ipython",
    "version": 2
   },
   "file_extension": ".py",
   "mimetype": "text/x-python",
   "name": "python",
   "nbconvert_exporter": "python",
   "pygments_lexer": "ipython2",
   "version": "2.7.11"
  }
 },
 "nbformat": 4,
 "nbformat_minor": 0
}
